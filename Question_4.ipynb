{
  "nbformat": 4,
  "nbformat_minor": 0,
  "metadata": {
    "colab": {
      "provenance": [],
      "authorship_tag": "ABX9TyNMW4RX0ZOsodvdQABcrDGI",
      "include_colab_link": true
    },
    "kernelspec": {
      "name": "python3",
      "display_name": "Python 3"
    },
    "language_info": {
      "name": "python"
    }
  },
  "cells": [
    {
      "cell_type": "markdown",
      "metadata": {
        "id": "view-in-github",
        "colab_type": "text"
      },
      "source": [
        "<a href=\"https://colab.research.google.com/github/shashwatb23/Week_1/blob/main/Question_4.ipynb\" target=\"_parent\"><img src=\"https://colab.research.google.com/assets/colab-badge.svg\" alt=\"Open In Colab\"/></a>"
      ]
    },
    {
      "cell_type": "markdown",
      "source": [
        "1. Load the data as you did in the 2nd question."
      ],
      "metadata": {
        "id": "gecjjtXRePqq"
      }
    },
    {
      "cell_type": "code",
      "execution_count": 16,
      "metadata": {
        "id": "QLcaKK-ra-UM"
      },
      "outputs": [],
      "source": [
        "from sklearn.datasets import load_breast_cancer\n",
        "import numpy as np\n",
        "from collections import Counter\n",
        "data = load_breast_cancer()"
      ]
    },
    {
      "cell_type": "markdown",
      "source": [
        "2. Extract the X and Y columns."
      ],
      "metadata": {
        "id": "JzqoTVKjeiJ4"
      }
    },
    {
      "cell_type": "code",
      "source": [
        "X = data.data\n",
        "y = data.target"
      ],
      "metadata": {
        "id": "eMdhabtwejT1"
      },
      "execution_count": 9,
      "outputs": []
    },
    {
      "cell_type": "markdown",
      "source": [
        "3. Split it into training and testing datasets (considering test - 25%)."
      ],
      "metadata": {
        "id": "vd1WF8Jeeo36"
      }
    },
    {
      "cell_type": "code",
      "source": [
        "from sklearn.model_selection import train_test_split\n",
        "X_train, X_test, y_train, y_test = train_test_split(X, y, test_size=0.25, random_state=0)"
      ],
      "metadata": {
        "id": "IWqlnfWuermq"
      },
      "execution_count": 10,
      "outputs": []
    },
    {
      "cell_type": "markdown",
      "source": [
        "4. Define Euclidean distance."
      ],
      "metadata": {
        "id": "bX0fm6-YfK23"
      }
    },
    {
      "cell_type": "code",
      "source": [
        "def euclidean_distance(x1,x2):\n",
        "  c = np.sum((x1-x2)**2)\n",
        "  return np.sqrt(c)"
      ],
      "metadata": {
        "id": "0XP3goMifNAp"
      },
      "execution_count": 12,
      "outputs": []
    },
    {
      "cell_type": "markdown",
      "source": [
        "5. Build the KNN model."
      ],
      "metadata": {
        "id": "N_DtLhAwfeQq"
      }
    },
    {
      "cell_type": "code",
      "source": [
        "class KNN(object):\n",
        "    def __init__(self,k):\n",
        "        self.k=k\n",
        "    def fit(self,x_train,y_train):\n",
        "        self.x_train=x_train\n",
        "        self.y_train=y_train\n",
        "    def predict(self,x_test):\n",
        "        predictions=[self._helper(x) for x in x_test]\n",
        "        return np.array(predictions)\n",
        "    def _helper(self,x):\n",
        "        prediction=[euclidean_distance(x,x1) for x1 in self.x_train]\n",
        "        indices= np.argsort(prediction)[:self.k]\n",
        "        labels= [self.y_train[i] for i in indices]\n",
        "        c=Counter(labels).most_common()\n",
        "        return c[0][0]\n",
        "\n"
      ],
      "metadata": {
        "id": "TVvoOT3rffQP"
      },
      "execution_count": 18,
      "outputs": []
    },
    {
      "cell_type": "markdown",
      "source": [
        "6. Fit the model on the training data."
      ],
      "metadata": {
        "id": "x0RCqqOlfsuc"
      }
    },
    {
      "cell_type": "code",
      "source": [
        "model=KNN(k=3)\n",
        "model.fit(X_train,y_train)"
      ],
      "metadata": {
        "id": "rnqvnMQ6fvbS"
      },
      "execution_count": 19,
      "outputs": []
    },
    {
      "cell_type": "markdown",
      "source": [
        "7. Make predictions. Find their accuracy using accuracy_score"
      ],
      "metadata": {
        "id": "52Vv3F8Gf6pC"
      }
    },
    {
      "cell_type": "code",
      "source": [
        "y_pred = model.predict(X_test)\n",
        "from sklearn.metrics import accuracy_score\n",
        "print(accuracy_score(y_pred,y_test))"
      ],
      "metadata": {
        "colab": {
          "base_uri": "https://localhost:8080/"
        },
        "id": "T5B5lkIqf9Qy",
        "outputId": "97f34935-8c4a-4b2f-a33d-4ad4a7bc1d20"
      },
      "execution_count": 22,
      "outputs": [
        {
          "output_type": "stream",
          "name": "stdout",
          "text": [
            "0.9230769230769231\n"
          ]
        }
      ]
    },
    {
      "cell_type": "markdown",
      "source": [
        "8. Compare with the sklearn model"
      ],
      "metadata": {
        "id": "3XSeQdzMgc5f"
      }
    },
    {
      "cell_type": "code",
      "source": [
        "from sklearn.neighbors import KNeighborsClassifier\n",
        "Y_pred = KNeighborsClassifier(n_neighbors=3).fit(X_train,y_train).predict(X_test)\n",
        "print(accuracy_score(Y_pred,y_test))"
      ],
      "metadata": {
        "colab": {
          "base_uri": "https://localhost:8080/"
        },
        "id": "445X6pffgf5D",
        "outputId": "8b32f7cf-fee2-498e-b673-25d33197768c"
      },
      "execution_count": 24,
      "outputs": [
        {
          "output_type": "stream",
          "name": "stdout",
          "text": [
            "0.9230769230769231\n"
          ]
        }
      ]
    },
    {
      "cell_type": "markdown",
      "source": [
        "The accuracy score of both the models came out to be the same"
      ],
      "metadata": {
        "id": "hOBZ9tzXgrmc"
      }
    }
  ]
}
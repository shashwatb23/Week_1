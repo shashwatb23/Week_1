{
  "nbformat": 4,
  "nbformat_minor": 0,
  "metadata": {
    "colab": {
      "provenance": [],
      "authorship_tag": "ABX9TyM6OSA1sIk/rn4mI6U0wJ5r",
      "include_colab_link": true
    },
    "kernelspec": {
      "name": "python3",
      "display_name": "Python 3"
    },
    "language_info": {
      "name": "python"
    }
  },
  "cells": [
    {
      "cell_type": "markdown",
      "metadata": {
        "id": "view-in-github",
        "colab_type": "text"
      },
      "source": [
        "<a href=\"https://colab.research.google.com/github/shashwatb23/Week_1/blob/main/Question_2.ipynb\" target=\"_parent\"><img src=\"https://colab.research.google.com/assets/colab-badge.svg\" alt=\"Open In Colab\"/></a>"
      ]
    },
    {
      "cell_type": "markdown",
      "source": [
        "Import Relavant Modules"
      ],
      "metadata": {
        "id": "GpdCOD4YrisO"
      }
    },
    {
      "cell_type": "code",
      "execution_count": 11,
      "metadata": {
        "id": "TvsoGT6FCaJ4"
      },
      "outputs": [],
      "source": [
        "import numpy as np\n",
        "from sklearn.linear_model import LinearRegression\n",
        "from sklearn.model_selection import train_test_split\n",
        "from sklearn.metrics import mean_squared_error\n",
        "from sklearn.metrics import r2_score\n",
        "import pandas as pd\n",
        "from sklearn.preprocessing import StandardScaler\n"
      ]
    },
    {
      "cell_type": "markdown",
      "source": [
        "Check for Null Values"
      ],
      "metadata": {
        "id": "5rarjJZ0rmcK"
      }
    },
    {
      "cell_type": "code",
      "source": [
        "df = pd.read_csv('Real estate.csv')\n",
        "df.isnull().sum()"
      ],
      "metadata": {
        "colab": {
          "base_uri": "https://localhost:8080/"
        },
        "id": "fVD7wymZrpoF",
        "outputId": "c0b0c4db-efd6-4c26-cc03-b53d9dc6ca06"
      },
      "execution_count": 12,
      "outputs": [
        {
          "output_type": "execute_result",
          "data": {
            "text/plain": [
              "No                                        0\n",
              "X1 transaction date                       0\n",
              "X2 house age                              0\n",
              "X3 distance to the nearest MRT station    0\n",
              "X4 number of convenience stores           0\n",
              "X5 latitude                               0\n",
              "X6 longitude                              0\n",
              "Y house price of unit area                0\n",
              "dtype: int64"
            ]
          },
          "metadata": {},
          "execution_count": 12
        }
      ]
    },
    {
      "cell_type": "markdown",
      "source": [
        "Split into Test and Train data (Considering test data - 25%)"
      ],
      "metadata": {
        "id": "OmoyfawtrzaY"
      }
    },
    {
      "cell_type": "code",
      "source": [
        "X = df.iloc[:,1:6]\n",
        "y = df.iloc[:,7]\n",
        "scaler = StandardScaler()\n",
        "X = scaler.fit_transform(X)\n",
        "\n",
        "X_train,X_test,y_train,y_test = train_test_split(X,y,test_size=0.25)\n"
      ],
      "metadata": {
        "id": "hgeusMmQr8Yt"
      },
      "execution_count": 15,
      "outputs": []
    },
    {
      "cell_type": "markdown",
      "source": [
        "Fitting Linear Regression model in this data"
      ],
      "metadata": {
        "id": "ZNhCJ3ODtOAv"
      }
    },
    {
      "cell_type": "code",
      "source": [
        "reg = LinearRegression()\n",
        "reg.fit(X_train,y_train)\n",
        "y_test_predict = reg.predict(X_test)\n",
        "rmse = (np.sqrt(mean_squared_error(y_test, y_test_predict)))\n",
        "r2 = r2_score(y_test, y_test_predict)\n",
        "print('Test RMSE =', rmse)\n",
        "print('Test R2 score =', r2)\n"
      ],
      "metadata": {
        "colab": {
          "base_uri": "https://localhost:8080/"
        },
        "id": "biBVPXjvtQ2T",
        "outputId": "305891a5-2d40-4161-a96e-14641defde18"
      },
      "execution_count": 18,
      "outputs": [
        {
          "output_type": "stream",
          "name": "stdout",
          "text": [
            "Test RMSE = 11.299345129101363\n",
            "Test R2 score = 0.34659802117556027\n"
          ]
        }
      ]
    },
    {
      "cell_type": "markdown",
      "source": [
        "Coefficients and intercept obtained using Linear Regression Model"
      ],
      "metadata": {
        "id": "2zzfDDfRuejl"
      }
    },
    {
      "cell_type": "code",
      "source": [
        "w = reg.coef_\n",
        "c = reg.intercept_\n",
        "print('Coefficients =', w)\n",
        "print('Intercept =', c)"
      ],
      "metadata": {
        "colab": {
          "base_uri": "https://localhost:8080/"
        },
        "id": "clnBFyeluTkH",
        "outputId": "d8aef28b-e9b7-4190-89bb-0532e21eeb5a"
      },
      "execution_count": 21,
      "outputs": [
        {
          "output_type": "stream",
          "name": "stdout",
          "text": [
            "Coefficients = [ 1.44347182 -2.73760209 -4.7383314   4.63692025  2.52386107]\n",
            "Intercept = 37.892955606905005\n"
          ]
        }
      ]
    }
  ]
}
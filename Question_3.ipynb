{
  "nbformat": 4,
  "nbformat_minor": 0,
  "metadata": {
    "colab": {
      "provenance": [],
      "authorship_tag": "ABX9TyPFVICtfJ63t7TdToQugbOk",
      "include_colab_link": true
    },
    "kernelspec": {
      "name": "python3",
      "display_name": "Python 3"
    },
    "language_info": {
      "name": "python"
    }
  },
  "cells": [
    {
      "cell_type": "markdown",
      "metadata": {
        "id": "view-in-github",
        "colab_type": "text"
      },
      "source": [
        "<a href=\"https://colab.research.google.com/github/shashwatb23/Week_1/blob/main/Question_3.ipynb\" target=\"_parent\"><img src=\"https://colab.research.google.com/assets/colab-badge.svg\" alt=\"Open In Colab\"/></a>"
      ]
    },
    {
      "cell_type": "markdown",
      "source": [
        "1. import breast cancer dataset"
      ],
      "metadata": {
        "id": "OkMRQZCpBvb_"
      }
    },
    {
      "cell_type": "code",
      "execution_count": 8,
      "metadata": {
        "id": "F4p61n10u_Rn"
      },
      "outputs": [],
      "source": [
        "from sklearn.datasets import load_breast_cancer\n",
        "data = load_breast_cancer()\n"
      ]
    },
    {
      "cell_type": "markdown",
      "source": [
        "import relavant modules\n"
      ],
      "metadata": {
        "id": "gdDpYOISCaS9"
      }
    },
    {
      "cell_type": "code",
      "source": [
        "import numpy as np\n",
        "from sklearn.model_selection import train_test_split\n",
        "\n",
        "from sklearn.preprocessing import StandardScaler"
      ],
      "metadata": {
        "id": "YVdAcdNeCdmM"
      },
      "execution_count": 42,
      "outputs": []
    },
    {
      "cell_type": "markdown",
      "source": [
        "2. Separating X and Y"
      ],
      "metadata": {
        "id": "6rqxD-l1DJ2x"
      }
    },
    {
      "cell_type": "code",
      "source": [
        "X = data.data\n",
        "y = data.target\n"
      ],
      "metadata": {
        "id": "kcPhoLaMDRMy"
      },
      "execution_count": 46,
      "outputs": []
    },
    {
      "cell_type": "markdown",
      "source": [
        "3. Normalize the X data using MinMaxScaler or StandardScaler"
      ],
      "metadata": {
        "id": "9OVWQE3aDvF-"
      }
    },
    {
      "cell_type": "code",
      "source": [
        "scale = StandardScaler()\n",
        "X = scale.fit_transform(X)\n"
      ],
      "metadata": {
        "id": "6BJkarzeDziK"
      },
      "execution_count": 47,
      "outputs": []
    },
    {
      "cell_type": "markdown",
      "source": [
        "4. Create a train-test-split. Take any suitable test size ( I'm taking test - 25%)"
      ],
      "metadata": {
        "id": "sgpDAaNAD-M5"
      }
    },
    {
      "cell_type": "code",
      "source": [
        "Xtrain, Xtest, ytrain, ytest = train_test_split(X, y, test_size = 0.25)"
      ],
      "metadata": {
        "id": "ywEftTjpEFA7"
      },
      "execution_count": 48,
      "outputs": []
    },
    {
      "cell_type": "markdown",
      "source": [
        "5 . Write code for the sigmoid function and Logistic regression"
      ],
      "metadata": {
        "id": "iicIIxoJEIo_"
      }
    },
    {
      "cell_type": "code",
      "source": [
        "def sigmoid(z):\n",
        "    z = np.clip(z, -500, 500)  # Adjust the range as needed\n",
        "    t = np.exp(-z)\n",
        "    return 1 / (1 + t)\n",
        "\n",
        "def sigmoid_derivative(z):\n",
        "    return sigmoid(z)*(1-sigmoid(z))\n",
        "\n",
        "class LogR:\n",
        "    def __init__(self, learning_rate, epochs):\n",
        "      #Initialise the hyperparameters of the model\n",
        "        self.lr = learning_rate\n",
        "        self.epochs = epochs\n",
        "\n",
        "    def fit(self, X, y):\n",
        "        n_samples, n_features = X.shape\n",
        "        y = y.reshape(-1, 1)\n",
        "        self.weights = np.random.randn(n_features,1)/np.sqrt(n_features)\n",
        "        self.bias = np.random.randn(1,1)\n",
        "\n",
        "        #Implement the GD algortihm\n",
        "        for _ in range(self.epochs):\n",
        "            z = np.dot(X,self.weights) + self.bias\n",
        "            y_pred = sigmoid(z)\n",
        "\n",
        "            dw = -np.dot(X.T,(y - y_pred))/n_samples\n",
        "            db = -np.sum(y - y_pred)/n_samples\n",
        "\n",
        "            self.weights -= self.lr* dw\n",
        "            self.bias -= self.lr* db\n",
        "\n",
        "    def predict(self, X):\n",
        "      #Write the predict function\n",
        "        z = np.dot(X,self.weights) + self.bias\n",
        "        y_pred = sigmoid(z)\n",
        "        for i in range ((len(y_pred))):\n",
        "          if y_pred[i] >= 0.5:\n",
        "            y_pred[i] = 1\n",
        "          else:\n",
        "            y_pred[i] = 0\n",
        "        return y_pred\n",
        "\n"
      ],
      "metadata": {
        "id": "hRrhNyoMEMMC"
      },
      "execution_count": 49,
      "outputs": []
    },
    {
      "cell_type": "markdown",
      "source": [
        "6. Fit your model on the dataset and make predictions."
      ],
      "metadata": {
        "id": "_OQixZQSFlwX"
      }
    },
    {
      "cell_type": "code",
      "source": [
        "model = LogR(learning_rate = 0.01, epochs = 100)\n",
        "model.fit(Xtrain, ytrain)\n",
        "y_pred = model.predict(Xtest)"
      ],
      "metadata": {
        "id": "7w2HqJNHFuc5"
      },
      "execution_count": 50,
      "outputs": []
    },
    {
      "cell_type": "markdown",
      "source": [
        "7. Compare your model with the Sklearn Logistic Regression model."
      ],
      "metadata": {
        "id": "FX7eI2aALyN3"
      }
    },
    {
      "cell_type": "code",
      "source": [
        "from sklearn.linear_model import LogisticRegression\n",
        "logr = LogisticRegression(random_state = 0 , max_iter = 1000)\n",
        "logr.fit(Xtrain,ytrain)\n",
        "\n",
        "Ypred = logr.predict(Xtest)"
      ],
      "metadata": {
        "id": "UCENCv7lL3Sn"
      },
      "execution_count": 52,
      "outputs": []
    },
    {
      "cell_type": "markdown",
      "source": [
        "8. Print accuracy score of both the models\n"
      ],
      "metadata": {
        "id": "UEnsOiP3MwIL"
      }
    },
    {
      "cell_type": "code",
      "source": [
        "from sklearn.metrics import accuracy_score\n",
        "# For my model\n",
        "print(\"Accuracy of my model : \" , accuracy_score(ytest,y_pred))\n",
        "# For sklearn model\n",
        "print(\"Accuracy of sklearn model : \" , accuracy_score(ytest,Ypred))"
      ],
      "metadata": {
        "colab": {
          "base_uri": "https://localhost:8080/"
        },
        "id": "PLxWpHycMy2f",
        "outputId": "502d1002-f414-4d05-bea4-7e508796a9e7"
      },
      "execution_count": 53,
      "outputs": [
        {
          "output_type": "stream",
          "name": "stdout",
          "text": [
            "Accuracy of my model :  0.951048951048951\n",
            "Accuracy of sklearn model :  0.9790209790209791\n"
          ]
        }
      ]
    },
    {
      "cell_type": "markdown",
      "source": [
        "9. Since, my model is more accurate, I am printing classification report for my model"
      ],
      "metadata": {
        "id": "e5VFoxMpNFEd"
      }
    },
    {
      "cell_type": "code",
      "source": [
        "from sklearn.metrics import classification_report\n",
        "print(classification_report(ytest,y_pred))"
      ],
      "metadata": {
        "colab": {
          "base_uri": "https://localhost:8080/"
        },
        "id": "ESMoNP5kNKVi",
        "outputId": "5514a8d1-fb33-45ac-a3e1-3b13acb77e11"
      },
      "execution_count": 54,
      "outputs": [
        {
          "output_type": "stream",
          "name": "stdout",
          "text": [
            "              precision    recall  f1-score   support\n",
            "\n",
            "           0       0.89      0.98      0.93        50\n",
            "           1       0.99      0.94      0.96        93\n",
            "\n",
            "    accuracy                           0.95       143\n",
            "   macro avg       0.94      0.96      0.95       143\n",
            "weighted avg       0.95      0.95      0.95       143\n",
            "\n"
          ]
        }
      ]
    },
    {
      "cell_type": "markdown",
      "source": [
        "10. Confusion_matrix for my model"
      ],
      "metadata": {
        "id": "FNGDIy_3NgD7"
      }
    },
    {
      "cell_type": "code",
      "source": [
        "from sklearn.metrics import confusion_matrix\n",
        "print(confusion_matrix(ytest,y_pred))"
      ],
      "metadata": {
        "colab": {
          "base_uri": "https://localhost:8080/"
        },
        "id": "fkF_8Xm0NjYa",
        "outputId": "1dde3561-ab5c-473e-9529-2f205e5e0874"
      },
      "execution_count": 55,
      "outputs": [
        {
          "output_type": "stream",
          "name": "stdout",
          "text": [
            "[[49  1]\n",
            " [ 6 87]]\n"
          ]
        }
      ]
    }
  ]
}
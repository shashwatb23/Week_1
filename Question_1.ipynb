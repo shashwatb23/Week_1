{
  "nbformat": 4,
  "nbformat_minor": 0,
  "metadata": {
    "colab": {
      "provenance": [],
      "authorship_tag": "ABX9TyN7YCf7so0dx9qw99i5MQfJ",
      "include_colab_link": true
    },
    "kernelspec": {
      "name": "python3",
      "display_name": "Python 3"
    },
    "language_info": {
      "name": "python"
    }
  },
  "cells": [
    {
      "cell_type": "markdown",
      "metadata": {
        "id": "view-in-github",
        "colab_type": "text"
      },
      "source": [
        "<a href=\"https://colab.research.google.com/github/shashwatb23/Week_1/blob/main/Question_1.ipynb\" target=\"_parent\"><img src=\"https://colab.research.google.com/assets/colab-badge.svg\" alt=\"Open In Colab\"/></a>"
      ]
    },
    {
      "cell_type": "markdown",
      "source": [
        "Importing Relavant Modules"
      ],
      "metadata": {
        "id": "qB47kiNu9m9a"
      }
    },
    {
      "cell_type": "code",
      "execution_count": null,
      "metadata": {
        "id": "ZOUf36HD9Lv5"
      },
      "outputs": [],
      "source": [
        "import numpy as np\n",
        "import matplotlib.pyplot as plt\n",
        "from sklearn.datasets import make_regression\n",
        "from sklearn.metrics import mean_squared_error\n",
        "from sklearn.model_selection import train_test_split"
      ]
    },
    {
      "cell_type": "markdown",
      "source": [
        "Creating own Class on LinearRegression with fit and predict functions"
      ],
      "metadata": {
        "id": "QKN6tF3R9wSn"
      }
    },
    {
      "cell_type": "code",
      "source": [
        "class LinearRegression:\n",
        "    def __init__(self,learning_rate,epochs):\n",
        "        self.learning_rate = learning_rate\n",
        "        self.epochs = epochs\n",
        "    # below function is fit (reshape irregualr data to limits of (-1,1))\n",
        "\n",
        "    def fit(self,X_train,Y_train):\n",
        "      n_samples,n_features = X_train.shape\n",
        "      Y_train = Y_train.reshape(-1,1)\n",
        "      self.weights = np.zeros(n_features)\n",
        "      self.bias = 0\n",
        "\n",
        "      #below iteration is gradient descent\n",
        "\n",
        "      for i in range(self.epochs):\n",
        "            delta= -(Y_train-np.dot(X_train,self.weights)-self.bias)/n_samples\n",
        "            de= np.dot(X_train.T,delta)\n",
        "            db= np.sum(delta).reshape(1,1)\n",
        "            self.weights = self.weights - self.learning_rate*de\n",
        "            self.bias = self.bias - self.learning_rate*db\n",
        "\n",
        "    #below function is to predict the values of Y for X_test\n",
        "\n",
        "    def predict(self,X_test):\n",
        "        print(self.weights, self.bias)\n",
        "        fin =  np.dot(X_test,self.weights)+self.bias\n",
        "        return fin\n",
        "\n",
        "\n",
        "\n",
        "\n"
      ],
      "metadata": {
        "id": "RPsRXJlO935q"
      },
      "execution_count": null,
      "outputs": []
    }
  ]
}